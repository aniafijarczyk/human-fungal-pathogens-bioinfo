{
 "cells": [
  {
   "cell_type": "code",
   "execution_count": 2,
   "id": "31346016",
   "metadata": {},
   "outputs": [],
   "source": [
    "import pandas as pd\n",
    "import numpy as np"
   ]
  },
  {
   "cell_type": "markdown",
   "id": "0a8c6d7d",
   "metadata": {},
   "source": [
    "# DATA"
   ]
  },
  {
   "cell_type": "code",
   "execution_count": 3,
   "id": "51365794",
   "metadata": {},
   "outputs": [],
   "source": [
    "path = \"/mnt/c/Users/aniaf/Projects/PC/GAPP/DATA/AFR_prediction_albicans/10_variants_5sets/\""
   ]
  },
  {
   "cell_type": "code",
   "execution_count": 1,
   "id": "8b90c3dc-3317-4ddd-a038-d812de1fc91c",
   "metadata": {},
   "outputs": [
    {
     "data": {
      "text/plain": [
       "100000"
      ]
     },
     "execution_count": 1,
     "metadata": {},
     "output_type": "execute_result"
    }
   ],
   "source": [
    "10 ** 5"
   ]
  },
  {
   "cell_type": "code",
   "execution_count": 4,
   "id": "cba0d211",
   "metadata": {},
   "outputs": [
    {
     "name": "stdout",
     "output_type": "stream",
     "text": [
      "0\n",
      "1\n",
      "2\n",
      "3\n",
      "4\n",
      "5\n",
      "6\n",
      "7\n",
      "8\n",
      "9\n",
      "10\n",
      "11\n",
      "12\n",
      "13\n"
     ]
    }
   ],
   "source": [
    "#dp = pd.read_csv(path + \"bcftools_FLT2_snpEff_DP.tab\", sep=\"\\t\", header=None, chunksize = 10 ** 5)\n",
    "chunksize = 10 ** 5\n",
    "filename = path + \"bcftools_FLT2_snpEff_DP.tab\"\n",
    "\n",
    "R = []\n",
    "i=0\n",
    "for chunk in pd.read_csv(filename, sep=\"\\t\", header=None, chunksize=chunksize):\n",
    "    print(i)\n",
    "    dp_info = chunk.iloc[:, :5]\n",
    "    dp_tab = chunk.iloc[:, 5:]\n",
    "\n",
    "    DP_sum = dp_tab.sum(axis=1)\n",
    "    DP_mean = dp_tab.mean(axis=1)\n",
    "\n",
    "    dp_info['DPsum'] = DP_sum\n",
    "    dp_info['DPmean'] = DP_mean\n",
    "\n",
    "    dp_info.columns = ['#CHROM', 'POS', 'REF', 'ALT', 'TYPE', 'DPsum', 'DPmean']\n",
    "    dp_info['TYPE'] = dp_info['TYPE'].replace({'.':'SNP','1':'INDEL'})\n",
    "\n",
    "    R.append(dp_info)\n",
    "    i+=1\n",
    "\n",
    "dR = pd.concat(R, ignore_index=True)\n",
    "print(dR.shape)\n",
    "dR.head()"
   ]
  },
  {
   "cell_type": "code",
   "execution_count": 6,
   "id": "e373d6e3-2bc3-4755-b9b8-2eaefa3f9a66",
   "metadata": {},
   "outputs": [
    {
     "name": "stdout",
     "output_type": "stream",
     "text": [
      "(1348658, 7)\n"
     ]
    },
    {
     "data": {
      "text/html": [
       "<div>\n",
       "<style scoped>\n",
       "    .dataframe tbody tr th:only-of-type {\n",
       "        vertical-align: middle;\n",
       "    }\n",
       "\n",
       "    .dataframe tbody tr th {\n",
       "        vertical-align: top;\n",
       "    }\n",
       "\n",
       "    .dataframe thead th {\n",
       "        text-align: right;\n",
       "    }\n",
       "</style>\n",
       "<table border=\"1\" class=\"dataframe\">\n",
       "  <thead>\n",
       "    <tr style=\"text-align: right;\">\n",
       "      <th></th>\n",
       "      <th>#CHROM</th>\n",
       "      <th>POS</th>\n",
       "      <th>REF</th>\n",
       "      <th>ALT</th>\n",
       "      <th>TYPE</th>\n",
       "      <th>DPsum</th>\n",
       "      <th>DPmean</th>\n",
       "    </tr>\n",
       "  </thead>\n",
       "  <tbody>\n",
       "    <tr>\n",
       "      <th>0</th>\n",
       "      <td>Ca22chr1A_C_albicans_SC5314</td>\n",
       "      <td>62</td>\n",
       "      <td>T</td>\n",
       "      <td>C</td>\n",
       "      <td>SNP</td>\n",
       "      <td>15198</td>\n",
       "      <td>13.034305</td>\n",
       "    </tr>\n",
       "    <tr>\n",
       "      <th>1</th>\n",
       "      <td>Ca22chr1A_C_albicans_SC5314</td>\n",
       "      <td>64</td>\n",
       "      <td>A</td>\n",
       "      <td>C</td>\n",
       "      <td>SNP</td>\n",
       "      <td>18990</td>\n",
       "      <td>16.286449</td>\n",
       "    </tr>\n",
       "    <tr>\n",
       "      <th>2</th>\n",
       "      <td>Ca22chr1A_C_albicans_SC5314</td>\n",
       "      <td>70</td>\n",
       "      <td>A</td>\n",
       "      <td>G</td>\n",
       "      <td>SNP</td>\n",
       "      <td>31654</td>\n",
       "      <td>27.147513</td>\n",
       "    </tr>\n",
       "    <tr>\n",
       "      <th>3</th>\n",
       "      <td>Ca22chr1A_C_albicans_SC5314</td>\n",
       "      <td>75</td>\n",
       "      <td>T</td>\n",
       "      <td>A</td>\n",
       "      <td>SNP</td>\n",
       "      <td>41916</td>\n",
       "      <td>35.948542</td>\n",
       "    </tr>\n",
       "    <tr>\n",
       "      <th>4</th>\n",
       "      <td>Ca22chr1A_C_albicans_SC5314</td>\n",
       "      <td>82</td>\n",
       "      <td>G</td>\n",
       "      <td>A</td>\n",
       "      <td>SNP</td>\n",
       "      <td>59833</td>\n",
       "      <td>51.314751</td>\n",
       "    </tr>\n",
       "  </tbody>\n",
       "</table>\n",
       "</div>"
      ],
      "text/plain": [
       "                        #CHROM  POS REF ALT TYPE  DPsum     DPmean\n",
       "0  Ca22chr1A_C_albicans_SC5314   62   T   C  SNP  15198  13.034305\n",
       "1  Ca22chr1A_C_albicans_SC5314   64   A   C  SNP  18990  16.286449\n",
       "2  Ca22chr1A_C_albicans_SC5314   70   A   G  SNP  31654  27.147513\n",
       "3  Ca22chr1A_C_albicans_SC5314   75   T   A  SNP  41916  35.948542\n",
       "4  Ca22chr1A_C_albicans_SC5314   82   G   A  SNP  59833  51.314751"
      ]
     },
     "execution_count": 6,
     "metadata": {},
     "output_type": "execute_result"
    }
   ],
   "source": [
    "dR.head()"
   ]
  },
  {
   "cell_type": "code",
   "execution_count": 7,
   "id": "23c715b0-f2d7-4125-b12b-aa8d5f97982a",
   "metadata": {},
   "outputs": [],
   "source": [
    "dR.to_csv(\"11_07_get_DP.csv\", sep=\",\", header=True, index=False)"
   ]
  },
  {
   "cell_type": "code",
   "execution_count": null,
   "id": "e07be60d-32a4-4b29-9353-1f04f1d66e55",
   "metadata": {},
   "outputs": [],
   "source": []
  },
  {
   "cell_type": "code",
   "execution_count": null,
   "id": "3c99cce0-0e5b-4723-801f-fc1966cfc85b",
   "metadata": {},
   "outputs": [],
   "source": []
  },
  {
   "cell_type": "markdown",
   "id": "4b2ce0f1-bec2-4015-b073-8cb32bff9521",
   "metadata": {},
   "source": [
    "# Whole at once example"
   ]
  },
  {
   "cell_type": "code",
   "execution_count": 20,
   "id": "474855a6",
   "metadata": {},
   "outputs": [
    {
     "data": {
      "text/html": [
       "<div>\n",
       "<style scoped>\n",
       "    .dataframe tbody tr th:only-of-type {\n",
       "        vertical-align: middle;\n",
       "    }\n",
       "\n",
       "    .dataframe tbody tr th {\n",
       "        vertical-align: top;\n",
       "    }\n",
       "\n",
       "    .dataframe thead th {\n",
       "        text-align: right;\n",
       "    }\n",
       "</style>\n",
       "<table border=\"1\" class=\"dataframe\">\n",
       "  <thead>\n",
       "    <tr style=\"text-align: right;\">\n",
       "      <th></th>\n",
       "      <th>5</th>\n",
       "      <th>6</th>\n",
       "      <th>7</th>\n",
       "      <th>8</th>\n",
       "      <th>9</th>\n",
       "      <th>10</th>\n",
       "      <th>11</th>\n",
       "      <th>12</th>\n",
       "      <th>13</th>\n",
       "      <th>14</th>\n",
       "      <th>...</th>\n",
       "      <th>1022</th>\n",
       "      <th>1023</th>\n",
       "      <th>1024</th>\n",
       "      <th>1025</th>\n",
       "      <th>1026</th>\n",
       "      <th>1027</th>\n",
       "      <th>1028</th>\n",
       "      <th>1029</th>\n",
       "      <th>1030</th>\n",
       "      <th>1031</th>\n",
       "    </tr>\n",
       "  </thead>\n",
       "  <tbody>\n",
       "    <tr>\n",
       "      <th>0</th>\n",
       "      <td>14</td>\n",
       "      <td>0</td>\n",
       "      <td>0</td>\n",
       "      <td>9</td>\n",
       "      <td>0</td>\n",
       "      <td>9</td>\n",
       "      <td>0</td>\n",
       "      <td>14</td>\n",
       "      <td>0</td>\n",
       "      <td>35</td>\n",
       "      <td>...</td>\n",
       "      <td>0</td>\n",
       "      <td>0</td>\n",
       "      <td>0</td>\n",
       "      <td>2</td>\n",
       "      <td>0</td>\n",
       "      <td>0</td>\n",
       "      <td>0</td>\n",
       "      <td>9</td>\n",
       "      <td>0</td>\n",
       "      <td>127</td>\n",
       "    </tr>\n",
       "    <tr>\n",
       "      <th>1</th>\n",
       "      <td>21</td>\n",
       "      <td>0</td>\n",
       "      <td>0</td>\n",
       "      <td>17</td>\n",
       "      <td>0</td>\n",
       "      <td>14</td>\n",
       "      <td>0</td>\n",
       "      <td>21</td>\n",
       "      <td>0</td>\n",
       "      <td>45</td>\n",
       "      <td>...</td>\n",
       "      <td>0</td>\n",
       "      <td>0</td>\n",
       "      <td>0</td>\n",
       "      <td>2</td>\n",
       "      <td>0</td>\n",
       "      <td>0</td>\n",
       "      <td>0</td>\n",
       "      <td>11</td>\n",
       "      <td>0</td>\n",
       "      <td>136</td>\n",
       "    </tr>\n",
       "    <tr>\n",
       "      <th>2</th>\n",
       "      <td>59</td>\n",
       "      <td>0</td>\n",
       "      <td>0</td>\n",
       "      <td>21</td>\n",
       "      <td>1</td>\n",
       "      <td>37</td>\n",
       "      <td>1</td>\n",
       "      <td>154</td>\n",
       "      <td>0</td>\n",
       "      <td>110</td>\n",
       "      <td>...</td>\n",
       "      <td>0</td>\n",
       "      <td>0</td>\n",
       "      <td>0</td>\n",
       "      <td>8</td>\n",
       "      <td>0</td>\n",
       "      <td>11</td>\n",
       "      <td>0</td>\n",
       "      <td>23</td>\n",
       "      <td>0</td>\n",
       "      <td>143</td>\n",
       "    </tr>\n",
       "    <tr>\n",
       "      <th>3</th>\n",
       "      <td>97</td>\n",
       "      <td>0</td>\n",
       "      <td>0</td>\n",
       "      <td>31</td>\n",
       "      <td>1</td>\n",
       "      <td>59</td>\n",
       "      <td>1</td>\n",
       "      <td>212</td>\n",
       "      <td>0</td>\n",
       "      <td>170</td>\n",
       "      <td>...</td>\n",
       "      <td>0</td>\n",
       "      <td>0</td>\n",
       "      <td>0</td>\n",
       "      <td>13</td>\n",
       "      <td>0</td>\n",
       "      <td>12</td>\n",
       "      <td>0</td>\n",
       "      <td>27</td>\n",
       "      <td>0</td>\n",
       "      <td>152</td>\n",
       "    </tr>\n",
       "    <tr>\n",
       "      <th>4</th>\n",
       "      <td>144</td>\n",
       "      <td>0</td>\n",
       "      <td>0</td>\n",
       "      <td>47</td>\n",
       "      <td>0</td>\n",
       "      <td>84</td>\n",
       "      <td>2</td>\n",
       "      <td>248</td>\n",
       "      <td>0</td>\n",
       "      <td>246</td>\n",
       "      <td>...</td>\n",
       "      <td>0</td>\n",
       "      <td>0</td>\n",
       "      <td>0</td>\n",
       "      <td>40</td>\n",
       "      <td>0</td>\n",
       "      <td>52</td>\n",
       "      <td>0</td>\n",
       "      <td>62</td>\n",
       "      <td>0</td>\n",
       "      <td>188</td>\n",
       "    </tr>\n",
       "  </tbody>\n",
       "</table>\n",
       "<p>5 rows × 1027 columns</p>\n",
       "</div>"
      ],
      "text/plain": [
       "   5     6     7     8     9     10    11    12    13    14    ...  1022  \\\n",
       "0    14     0     0     9     0     9     0    14     0    35  ...     0   \n",
       "1    21     0     0    17     0    14     0    21     0    45  ...     0   \n",
       "2    59     0     0    21     1    37     1   154     0   110  ...     0   \n",
       "3    97     0     0    31     1    59     1   212     0   170  ...     0   \n",
       "4   144     0     0    47     0    84     2   248     0   246  ...     0   \n",
       "\n",
       "   1023  1024  1025  1026  1027  1028  1029  1030  1031  \n",
       "0     0     0     2     0     0     0     9     0   127  \n",
       "1     0     0     2     0     0     0    11     0   136  \n",
       "2     0     0     8     0    11     0    23     0   143  \n",
       "3     0     0    13     0    12     0    27     0   152  \n",
       "4     0     0    40     0    52     0    62     0   188  \n",
       "\n",
       "[5 rows x 1027 columns]"
      ]
     },
     "execution_count": 20,
     "metadata": {},
     "output_type": "execute_result"
    }
   ],
   "source": [
    "dp_info = dp.iloc[:, :5]\n",
    "dp_tab = dp.iloc[:, 5:]\n",
    "dp_tab.head()"
   ]
  },
  {
   "cell_type": "markdown",
   "id": "371e3592",
   "metadata": {},
   "source": [
    "# Sum of DP per SNP"
   ]
  },
  {
   "cell_type": "code",
   "execution_count": 10,
   "id": "61d49a66",
   "metadata": {},
   "outputs": [
    {
     "data": {
      "text/plain": [
       "0         14622\n",
       "1         18184\n",
       "2         30387\n",
       "3         40217\n",
       "4         56806\n",
       "          ...  \n",
       "886001    97734\n",
       "886002    95281\n",
       "886003    93114\n",
       "886004    92982\n",
       "886005    91491\n",
       "Length: 886006, dtype: int64"
      ]
     },
     "execution_count": 10,
     "metadata": {},
     "output_type": "execute_result"
    }
   ],
   "source": [
    "DP_sum = dp_tab.sum(axis=1)\n",
    "DP_sum"
   ]
  },
  {
   "cell_type": "markdown",
   "id": "74e8ebeb",
   "metadata": {},
   "source": [
    "# Mean DP per SNP"
   ]
  },
  {
   "cell_type": "code",
   "execution_count": 11,
   "id": "58858372",
   "metadata": {},
   "outputs": [
    {
     "data": {
      "text/plain": [
       "0         14.237585\n",
       "1         17.705940\n",
       "2         29.588121\n",
       "3         39.159688\n",
       "4         55.312561\n",
       "            ...    \n",
       "886001    95.164557\n",
       "886002    92.776047\n",
       "886003    90.666018\n",
       "886004    90.537488\n",
       "886005    89.085686\n",
       "Length: 886006, dtype: float64"
      ]
     },
     "execution_count": 11,
     "metadata": {},
     "output_type": "execute_result"
    }
   ],
   "source": [
    "DP_mean = dp_tab.mean(axis=1)\n",
    "DP_mean"
   ]
  },
  {
   "cell_type": "markdown",
   "id": "cd595ba9",
   "metadata": {},
   "source": [
    "# Combine"
   ]
  },
  {
   "cell_type": "code",
   "execution_count": 21,
   "id": "197d277c",
   "metadata": {},
   "outputs": [
    {
     "data": {
      "text/html": [
       "<div>\n",
       "<style scoped>\n",
       "    .dataframe tbody tr th:only-of-type {\n",
       "        vertical-align: middle;\n",
       "    }\n",
       "\n",
       "    .dataframe tbody tr th {\n",
       "        vertical-align: top;\n",
       "    }\n",
       "\n",
       "    .dataframe thead th {\n",
       "        text-align: right;\n",
       "    }\n",
       "</style>\n",
       "<table border=\"1\" class=\"dataframe\">\n",
       "  <thead>\n",
       "    <tr style=\"text-align: right;\">\n",
       "      <th></th>\n",
       "      <th>0</th>\n",
       "      <th>1</th>\n",
       "      <th>2</th>\n",
       "      <th>3</th>\n",
       "      <th>4</th>\n",
       "      <th>DPsum</th>\n",
       "      <th>DPmean</th>\n",
       "    </tr>\n",
       "  </thead>\n",
       "  <tbody>\n",
       "    <tr>\n",
       "      <th>0</th>\n",
       "      <td>Ca22chr1A_C_albicans_SC5314</td>\n",
       "      <td>62</td>\n",
       "      <td>T</td>\n",
       "      <td>C</td>\n",
       "      <td>.</td>\n",
       "      <td>14622</td>\n",
       "      <td>14.237585</td>\n",
       "    </tr>\n",
       "    <tr>\n",
       "      <th>1</th>\n",
       "      <td>Ca22chr1A_C_albicans_SC5314</td>\n",
       "      <td>64</td>\n",
       "      <td>A</td>\n",
       "      <td>C</td>\n",
       "      <td>.</td>\n",
       "      <td>18184</td>\n",
       "      <td>17.705940</td>\n",
       "    </tr>\n",
       "    <tr>\n",
       "      <th>2</th>\n",
       "      <td>Ca22chr1A_C_albicans_SC5314</td>\n",
       "      <td>70</td>\n",
       "      <td>A</td>\n",
       "      <td>G</td>\n",
       "      <td>.</td>\n",
       "      <td>30387</td>\n",
       "      <td>29.588121</td>\n",
       "    </tr>\n",
       "    <tr>\n",
       "      <th>3</th>\n",
       "      <td>Ca22chr1A_C_albicans_SC5314</td>\n",
       "      <td>75</td>\n",
       "      <td>T</td>\n",
       "      <td>A</td>\n",
       "      <td>.</td>\n",
       "      <td>40217</td>\n",
       "      <td>39.159688</td>\n",
       "    </tr>\n",
       "    <tr>\n",
       "      <th>4</th>\n",
       "      <td>Ca22chr1A_C_albicans_SC5314</td>\n",
       "      <td>82</td>\n",
       "      <td>G</td>\n",
       "      <td>A</td>\n",
       "      <td>.</td>\n",
       "      <td>56806</td>\n",
       "      <td>55.312561</td>\n",
       "    </tr>\n",
       "  </tbody>\n",
       "</table>\n",
       "</div>"
      ],
      "text/plain": [
       "                             0   1  2  3  4  DPsum     DPmean\n",
       "0  Ca22chr1A_C_albicans_SC5314  62  T  C  .  14622  14.237585\n",
       "1  Ca22chr1A_C_albicans_SC5314  64  A  C  .  18184  17.705940\n",
       "2  Ca22chr1A_C_albicans_SC5314  70  A  G  .  30387  29.588121\n",
       "3  Ca22chr1A_C_albicans_SC5314  75  T  A  .  40217  39.159688\n",
       "4  Ca22chr1A_C_albicans_SC5314  82  G  A  .  56806  55.312561"
      ]
     },
     "execution_count": 21,
     "metadata": {},
     "output_type": "execute_result"
    }
   ],
   "source": [
    "dp_info['DPsum'] = DP_sum\n",
    "dp_info['DPmean'] = DP_mean\n",
    "dp_info.head()"
   ]
  },
  {
   "cell_type": "code",
   "execution_count": 24,
   "id": "dfbc7d94",
   "metadata": {},
   "outputs": [
    {
     "name": "stdout",
     "output_type": "stream",
     "text": [
      "(886006, 7)\n"
     ]
    },
    {
     "data": {
      "text/html": [
       "<div>\n",
       "<style scoped>\n",
       "    .dataframe tbody tr th:only-of-type {\n",
       "        vertical-align: middle;\n",
       "    }\n",
       "\n",
       "    .dataframe tbody tr th {\n",
       "        vertical-align: top;\n",
       "    }\n",
       "\n",
       "    .dataframe thead th {\n",
       "        text-align: right;\n",
       "    }\n",
       "</style>\n",
       "<table border=\"1\" class=\"dataframe\">\n",
       "  <thead>\n",
       "    <tr style=\"text-align: right;\">\n",
       "      <th></th>\n",
       "      <th>#CHROM</th>\n",
       "      <th>POS</th>\n",
       "      <th>REF</th>\n",
       "      <th>ALT</th>\n",
       "      <th>TYPE</th>\n",
       "      <th>DPsum</th>\n",
       "      <th>DPmean</th>\n",
       "    </tr>\n",
       "  </thead>\n",
       "  <tbody>\n",
       "    <tr>\n",
       "      <th>0</th>\n",
       "      <td>Ca22chr1A_C_albicans_SC5314</td>\n",
       "      <td>62</td>\n",
       "      <td>T</td>\n",
       "      <td>C</td>\n",
       "      <td>SNP</td>\n",
       "      <td>14622</td>\n",
       "      <td>14.237585</td>\n",
       "    </tr>\n",
       "    <tr>\n",
       "      <th>1</th>\n",
       "      <td>Ca22chr1A_C_albicans_SC5314</td>\n",
       "      <td>64</td>\n",
       "      <td>A</td>\n",
       "      <td>C</td>\n",
       "      <td>SNP</td>\n",
       "      <td>18184</td>\n",
       "      <td>17.705940</td>\n",
       "    </tr>\n",
       "    <tr>\n",
       "      <th>2</th>\n",
       "      <td>Ca22chr1A_C_albicans_SC5314</td>\n",
       "      <td>70</td>\n",
       "      <td>A</td>\n",
       "      <td>G</td>\n",
       "      <td>SNP</td>\n",
       "      <td>30387</td>\n",
       "      <td>29.588121</td>\n",
       "    </tr>\n",
       "    <tr>\n",
       "      <th>3</th>\n",
       "      <td>Ca22chr1A_C_albicans_SC5314</td>\n",
       "      <td>75</td>\n",
       "      <td>T</td>\n",
       "      <td>A</td>\n",
       "      <td>SNP</td>\n",
       "      <td>40217</td>\n",
       "      <td>39.159688</td>\n",
       "    </tr>\n",
       "    <tr>\n",
       "      <th>4</th>\n",
       "      <td>Ca22chr1A_C_albicans_SC5314</td>\n",
       "      <td>82</td>\n",
       "      <td>G</td>\n",
       "      <td>A</td>\n",
       "      <td>SNP</td>\n",
       "      <td>56806</td>\n",
       "      <td>55.312561</td>\n",
       "    </tr>\n",
       "  </tbody>\n",
       "</table>\n",
       "</div>"
      ],
      "text/plain": [
       "                        #CHROM  POS REF ALT TYPE  DPsum     DPmean\n",
       "0  Ca22chr1A_C_albicans_SC5314   62   T   C  SNP  14622  14.237585\n",
       "1  Ca22chr1A_C_albicans_SC5314   64   A   C  SNP  18184  17.705940\n",
       "2  Ca22chr1A_C_albicans_SC5314   70   A   G  SNP  30387  29.588121\n",
       "3  Ca22chr1A_C_albicans_SC5314   75   T   A  SNP  40217  39.159688\n",
       "4  Ca22chr1A_C_albicans_SC5314   82   G   A  SNP  56806  55.312561"
      ]
     },
     "execution_count": 24,
     "metadata": {},
     "output_type": "execute_result"
    }
   ],
   "source": [
    "dp_info.columns = ['#CHROM', 'POS', 'REF', 'ALT', 'TYPE', 'DPsum', 'DPmean']\n",
    "#dp_info = dp_info.drop(columns = ['REF', 'ALT', 'TYPE']).reset_index(drop=True)\n",
    "\n",
    "dp_info['TYPE'] = dp_info['TYPE'].replace({'.':'SNP','1':'INDEL'})\n",
    "print(dp_info.shape)\n",
    "dp_info.head()"
   ]
  },
  {
   "cell_type": "code",
   "execution_count": 25,
   "id": "c27d67ba",
   "metadata": {},
   "outputs": [],
   "source": [
    "dp_info.to_csv(\"11_07_get_DP.csv\", sep=\",\", header=True, index=False)"
   ]
  },
  {
   "cell_type": "code",
   "execution_count": null,
   "id": "7b93a18c",
   "metadata": {},
   "outputs": [],
   "source": []
  }
 ],
 "metadata": {
  "kernelspec": {
   "display_name": "mbio",
   "language": "python",
   "name": "mbio"
  },
  "language_info": {
   "codemirror_mode": {
    "name": "ipython",
    "version": 3
   },
   "file_extension": ".py",
   "mimetype": "text/x-python",
   "name": "python",
   "nbconvert_exporter": "python",
   "pygments_lexer": "ipython3",
   "version": "3.12.7"
  }
 },
 "nbformat": 4,
 "nbformat_minor": 5
}
